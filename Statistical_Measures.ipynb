{
  "nbformat": 4,
  "nbformat_minor": 0,
  "metadata": {
    "colab": {
      "provenance": [],
      "authorship_tag": "ABX9TyPtq1jwY5XLuBbbzzgpPsq2",
      "include_colab_link": true
    },
    "kernelspec": {
      "name": "python3",
      "display_name": "Python 3"
    },
    "language_info": {
      "name": "python"
    }
  },
  "cells": [
    {
      "cell_type": "markdown",
      "metadata": {
        "id": "view-in-github",
        "colab_type": "text"
      },
      "source": [
        "<a href=\"https://colab.research.google.com/github/ranjithdurgunala/ML-LAB-2025-2026/blob/main/Statistical_Measures.ipynb\" target=\"_parent\"><img src=\"https://colab.research.google.com/assets/colab-badge.svg\" alt=\"Open In Colab\"/></a>"
      ]
    },
    {
      "cell_type": "markdown",
      "source": [
        "**Statistical measures**\n",
        "\n",
        "Statistical measures help summarize and describe data sets: central tendency (mean, median, mode) and dispersion (variance, standard deviation).\n",
        "\n",
        "**Central Tendency Measures**\n",
        "\n",
        "**Mean** is the arithmetic average, found by summing all data values and dividing by the number of items. It gives a sense of the \"typical\" value in a dataset, but is sensitive to extreme values (outliers).\n",
        "\n",
        "**Median** is the middle value when the dataset is ordered by size. If there is an even number of items, it's the average of the two middle ones. The median is much less affected by outliers or skewed data.\n",
        "\n",
        "**Mode** is the value that occurs most frequently within the dataset. It's most useful with categorical or discrete data but can be used for numeric values as well.\n",
        "\n",
        "These measures help identify a single representative value that reflects the \"center\" of the data."
      ],
      "metadata": {
        "id": "rVG0KfiVPk0h"
      }
    },
    {
      "cell_type": "markdown",
      "source": [
        "**Measures of Dispersion**\n",
        "\n",
        "**Variance** measures how far the numbers in the data set are spread out from the mean. A higher variance shows the data is widely spread, while a low variance suggests values are closely clustered around the mean.\n",
        "\n",
        "**Standard Deviation** is the square root of variance and is in the same units as the data. It provides a direct sense of the average distance each value differs from the mean.\n",
        "\n",
        "Both variance and standard deviation help describe the \"spread\" or \"variability\" of the data, indicating how much individual values tend to differ from the typical value."
      ],
      "metadata": {
        "id": "9qs_l8cwP54R"
      }
    },
    {
      "cell_type": "code",
      "execution_count": 1,
      "metadata": {
        "colab": {
          "base_uri": "https://localhost:8080/"
        },
        "id": "Hy0ZnVSQPP9R",
        "outputId": "f5f53546-4c02-40a0-a38b-bf525ca5f7d4"
      },
      "outputs": [
        {
          "output_type": "stream",
          "name": "stdout",
          "text": [
            "Mean: 5\n",
            "Median: 4.5\n",
            "Mode: 4\n",
            "Variance: 4.0\n",
            "Standard Deviation: 2.0\n"
          ]
        }
      ],
      "source": [
        "import numpy as np\n",
        "from statistics import mean, median, mode\n",
        "\n",
        "# Example data\n",
        "data = [2, 4, 4, 4, 5, 5, 7, 9]\n",
        "\n",
        "# Central Tendency Measures\n",
        "print(\"Mean:\", mean(data))         # Mean\n",
        "print(\"Median:\", median(data))     # Median\n",
        "print(\"Mode:\", mode(data))         # Mode\n",
        "\n",
        "# Measures of Dispersion\n",
        "print(\"Variance:\", np.var(data))            # Variance (Population)\n",
        "print(\"Standard Deviation:\", np.std(data))  # Standard Deviation (Population)"
      ]
    },
    {
      "cell_type": "markdown",
      "source": [
        "**Math library**\n",
        "\n",
        "The math library in Python is a built-in module that provides advanced mathematical functions and constants for performing a variety of calculations beyond basic operators. It is widely used for tasks in science, engineering, data analysis, and everyday programming."
      ],
      "metadata": {
        "id": "xbz0YTymQgZ8"
      }
    },
    {
      "cell_type": "markdown",
      "source": [
        "**1. Number Functions**\n",
        "\n",
        "math.ceil(x): Returns the smallest integer greater than or equal to x.\n",
        "\n",
        "math.floor(x): Returns the largest integer less than or equal to x.\n",
        "\n",
        "math.trunc(x): Truncates the decimal and returns the integer part."
      ],
      "metadata": {
        "id": "t8QlhhvDQ8ZX"
      }
    },
    {
      "cell_type": "code",
      "source": [
        "import math\n",
        "print(math.ceil(2.3))\n",
        "print(math.floor(2.7))\n",
        "print(math.trunc(8.9))"
      ],
      "metadata": {
        "colab": {
          "base_uri": "https://localhost:8080/"
        },
        "id": "1U2J0iU2Q4A-",
        "outputId": "35d292ba-1174-410e-c304-8977f7717a4e"
      },
      "execution_count": null,
      "outputs": [
        {
          "output_type": "stream",
          "name": "stdout",
          "text": [
            "3\n",
            "2\n",
            "8\n"
          ]
        }
      ]
    },
    {
      "cell_type": "markdown",
      "source": [
        "**2. Power and Logarithmic Functions**\n",
        "\n",
        "math.pow(x, y): Returns x power y as a float.\n",
        "\n",
        "math.sqrt(x): Returns the square root of x.\n",
        "\n",
        "math.exp(x): Returns e power x  (the exponential of x).\n",
        "\n",
        "math.log(x, base): Returns the logarithm of x to the given base."
      ],
      "metadata": {
        "id": "Dhx3Ko7oRPuU"
      }
    },
    {
      "cell_type": "code",
      "source": [
        "print(math.pow(2, 3))\n",
        "print(math.sqrt(16))\n",
        "print(math.exp(2))\n",
        "print(math.log(100, 10))"
      ],
      "metadata": {
        "colab": {
          "base_uri": "https://localhost:8080/"
        },
        "id": "S8_1bOeNRfyp",
        "outputId": "ca7bae19-1efd-4f06-f4be-5e8a9bc2f77e"
      },
      "execution_count": null,
      "outputs": [
        {
          "output_type": "stream",
          "name": "stdout",
          "text": [
            "8.0\n",
            "4.0\n",
            "7.38905609893065\n",
            "2.0\n"
          ]
        }
      ]
    },
    {
      "cell_type": "markdown",
      "source": [
        "**3. Trigonometric Functions**\n",
        "\n",
        "math.sin(x), math.cos(x), math.tan(x): Trigonometric functions (input in radians).\n",
        "\n",
        "math.radians(x): Converts degrees to radians.\n",
        "\n",
        "math.degrees(x): Converts radians to degrees.\n"
      ],
      "metadata": {
        "id": "jlCUTYxMR0Oc"
      }
    },
    {
      "cell_type": "code",
      "source": [
        "print(math.sin(math.pi/2))\n",
        "print(math.cos(0))\n",
        "print(math.tan(math.pi/4))\n",
        "\n",
        "print(math.radians(90))\n",
        "\n",
        "print(math.degrees(math.pi))"
      ],
      "metadata": {
        "colab": {
          "base_uri": "https://localhost:8080/"
        },
        "id": "Qh1ooNwCR7wP",
        "outputId": "2e0c371e-cf42-41ea-c672-357aae4a26fd"
      },
      "execution_count": null,
      "outputs": [
        {
          "output_type": "stream",
          "name": "stdout",
          "text": [
            "1.0\n",
            "1.0\n",
            "0.9999999999999999\n",
            "1.5707963267948966\n",
            "180.0\n"
          ]
        }
      ]
    },
    {
      "cell_type": "markdown",
      "source": [
        "**4. Special Functions**\n",
        "\n",
        "math.factorial(x): Returns the factorial of x (x!).\n",
        "\n",
        "math.gcd(a, b): Computes the greatest common divisor.\n",
        "\n",
        "math.fabs(x): Returns the absolute value as a float."
      ],
      "metadata": {
        "id": "J80ah25wSfNj"
      }
    },
    {
      "cell_type": "code",
      "source": [
        "print(math.factorial(5))\n",
        "print(math.gcd(20, 8))\n",
        "print(math.fabs(-7.5))"
      ],
      "metadata": {
        "colab": {
          "base_uri": "https://localhost:8080/"
        },
        "id": "LbXGo3aNTEWI",
        "outputId": "700eb05e-25b1-4550-94eb-067003e48d8f"
      },
      "execution_count": null,
      "outputs": [
        {
          "output_type": "stream",
          "name": "stdout",
          "text": [
            "120\n",
            "4\n",
            "7.5\n"
          ]
        }
      ]
    },
    {
      "cell_type": "markdown",
      "source": [
        "**5. Constants**\n",
        "\n",
        "math.pi: The value of π.\n",
        "\n",
        "math.e: The value of Euler’s number e.\n"
      ],
      "metadata": {
        "id": "P0XfCj5mTMCG"
      }
    },
    {
      "cell_type": "code",
      "source": [
        "print(math.pi)\n",
        "print(math.e)"
      ],
      "metadata": {
        "colab": {
          "base_uri": "https://localhost:8080/"
        },
        "id": "Mg0nXWGUTUAW",
        "outputId": "929138e2-acae-4438-8fe2-4f96235476a7"
      },
      "execution_count": null,
      "outputs": [
        {
          "output_type": "stream",
          "name": "stdout",
          "text": [
            "3.141592653589793\n",
            "2.718281828459045\n"
          ]
        }
      ]
    }
  ]
}